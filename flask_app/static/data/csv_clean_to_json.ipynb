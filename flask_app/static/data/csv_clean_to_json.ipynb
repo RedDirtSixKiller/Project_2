{
 "cells": [
  {
   "cell_type": "code",
   "execution_count": 1,
   "metadata": {},
   "outputs": [],
   "source": [
    "import pandas as pd\n",
    "import geojson\n",
    "import os"
   ]
  },
  {
   "cell_type": "code",
   "execution_count": 2,
   "metadata": {},
   "outputs": [
    {
     "data": {
      "text/plain": [
       "'C:\\\\Users\\\\adam\\\\Desktop\\\\Project_2\\\\flask_app\\\\static\\\\data'"
      ]
     },
     "execution_count": 2,
     "metadata": {},
     "output_type": "execute_result"
    }
   ],
   "source": [
    "os.chdir(r'C:\\Users\\adam\\Desktop\\Project_2\\flask_app\\static\\data')\n",
    "os.getcwd()"
   ]
  },
  {
   "cell_type": "code",
   "execution_count": 3,
   "metadata": {},
   "outputs": [
    {
     "data": {
      "text/html": [
       "<div>\n",
       "<style scoped>\n",
       "    .dataframe tbody tr th:only-of-type {\n",
       "        vertical-align: middle;\n",
       "    }\n",
       "\n",
       "    .dataframe tbody tr th {\n",
       "        vertical-align: top;\n",
       "    }\n",
       "\n",
       "    .dataframe thead th {\n",
       "        text-align: right;\n",
       "    }\n",
       "</style>\n",
       "<table border=\"1\" class=\"dataframe\">\n",
       "  <thead>\n",
       "    <tr style=\"text-align: right;\">\n",
       "      <th></th>\n",
       "      <th>Unnamed: 0</th>\n",
       "      <th>DIV_NAME</th>\n",
       "      <th>poly</th>\n",
       "    </tr>\n",
       "  </thead>\n",
       "  <tbody>\n",
       "    <tr>\n",
       "      <th>0</th>\n",
       "      <td>0</td>\n",
       "      <td>Peninsula</td>\n",
       "      <td>[[-122.73   38.48]\\r\\n [-122.52   37.52]\\r\\n [...</td>\n",
       "    </tr>\n",
       "    <tr>\n",
       "      <th>1</th>\n",
       "      <td>1</td>\n",
       "      <td>Stockton</td>\n",
       "      <td>[[-122.16   37.67]\\r\\n [-121.93   37.74]\\r\\n [...</td>\n",
       "    </tr>\n",
       "    <tr>\n",
       "      <th>2</th>\n",
       "      <td>2</td>\n",
       "      <td>Diablo</td>\n",
       "      <td>[[-124.09   40.56]\\r\\n [-122.53   37.88]\\r\\n [...</td>\n",
       "    </tr>\n",
       "    <tr>\n",
       "      <th>3</th>\n",
       "      <td>3</td>\n",
       "      <td>San Francisco</td>\n",
       "      <td>[[-122.53   37.9 ]\\r\\n [-122.51   37.73]\\r\\n [...</td>\n",
       "    </tr>\n",
       "    <tr>\n",
       "      <th>4</th>\n",
       "      <td>4</td>\n",
       "      <td>Fresno</td>\n",
       "      <td>[[-122.39   37.78]\\r\\n [-122.29   37.84]\\r\\n [...</td>\n",
       "    </tr>\n",
       "  </tbody>\n",
       "</table>\n",
       "</div>"
      ],
      "text/plain": [
       "   Unnamed: 0       DIV_NAME  \\\n",
       "0           0      Peninsula   \n",
       "1           1       Stockton   \n",
       "2           2         Diablo   \n",
       "3           3  San Francisco   \n",
       "4           4         Fresno   \n",
       "\n",
       "                                                poly  \n",
       "0  [[-122.73   38.48]\\r\\n [-122.52   37.52]\\r\\n [...  \n",
       "1  [[-122.16   37.67]\\r\\n [-121.93   37.74]\\r\\n [...  \n",
       "2  [[-124.09   40.56]\\r\\n [-122.53   37.88]\\r\\n [...  \n",
       "3  [[-122.53   37.9 ]\\r\\n [-122.51   37.73]\\r\\n [...  \n",
       "4  [[-122.39   37.78]\\r\\n [-122.29   37.84]\\r\\n [...  "
      ]
     },
     "execution_count": 3,
     "metadata": {},
     "output_type": "execute_result"
    }
   ],
   "source": [
    "dp_df = pd.read_csv('div_polys.csv')\n",
    "dp_df.head()"
   ]
  },
  {
   "cell_type": "code",
   "execution_count": 6,
   "metadata": {},
   "outputs": [
    {
     "data": {
      "text/html": [
       "<div>\n",
       "<style scoped>\n",
       "    .dataframe tbody tr th:only-of-type {\n",
       "        vertical-align: middle;\n",
       "    }\n",
       "\n",
       "    .dataframe tbody tr th {\n",
       "        vertical-align: top;\n",
       "    }\n",
       "\n",
       "    .dataframe thead th {\n",
       "        text-align: right;\n",
       "    }\n",
       "</style>\n",
       "<table border=\"1\" class=\"dataframe\">\n",
       "  <thead>\n",
       "    <tr style=\"text-align: right;\">\n",
       "      <th></th>\n",
       "      <th>Unnamed: 0</th>\n",
       "      <th>DIV_NAME</th>\n",
       "      <th>poly</th>\n",
       "    </tr>\n",
       "  </thead>\n",
       "  <tbody>\n",
       "    <tr>\n",
       "      <th>0</th>\n",
       "      <td>0</td>\n",
       "      <td>Peninsula</td>\n",
       "      <td>[[-122.73   38.48] [-122.52   37.52] [-122.52 ...</td>\n",
       "    </tr>\n",
       "    <tr>\n",
       "      <th>1</th>\n",
       "      <td>1</td>\n",
       "      <td>Stockton</td>\n",
       "      <td>[[-122.16   37.67] [-121.93   37.74] [-121.8  ...</td>\n",
       "    </tr>\n",
       "    <tr>\n",
       "      <th>2</th>\n",
       "      <td>2</td>\n",
       "      <td>Diablo</td>\n",
       "      <td>[[-124.09   40.56] [-122.53   37.88] [-122.23 ...</td>\n",
       "    </tr>\n",
       "    <tr>\n",
       "      <th>3</th>\n",
       "      <td>3</td>\n",
       "      <td>San Francisco</td>\n",
       "      <td>[[-122.53   37.9 ] [-122.51   37.73] [-122.51 ...</td>\n",
       "    </tr>\n",
       "    <tr>\n",
       "      <th>4</th>\n",
       "      <td>4</td>\n",
       "      <td>Fresno</td>\n",
       "      <td>[[-122.39   37.78] [-122.29   37.84] [-122.08 ...</td>\n",
       "    </tr>\n",
       "  </tbody>\n",
       "</table>\n",
       "</div>"
      ],
      "text/plain": [
       "   Unnamed: 0       DIV_NAME  \\\n",
       "0           0      Peninsula   \n",
       "1           1       Stockton   \n",
       "2           2         Diablo   \n",
       "3           3  San Francisco   \n",
       "4           4         Fresno   \n",
       "\n",
       "                                                poly  \n",
       "0  [[-122.73   38.48] [-122.52   37.52] [-122.52 ...  \n",
       "1  [[-122.16   37.67] [-121.93   37.74] [-121.8  ...  \n",
       "2  [[-124.09   40.56] [-122.53   37.88] [-122.23 ...  \n",
       "3  [[-122.53   37.9 ] [-122.51   37.73] [-122.51 ...  \n",
       "4  [[-122.39   37.78] [-122.29   37.84] [-122.08 ...  "
      ]
     },
     "execution_count": 6,
     "metadata": {},
     "output_type": "execute_result"
    }
   ],
   "source": [
    "dp_df['poly'].replace(regex=True,inplace=True,to_replace=r'\\r\\n',value=r'')\n",
    "dp_df.head()"
   ]
  },
  {
   "cell_type": "code",
   "execution_count": 7,
   "metadata": {},
   "outputs": [
    {
     "ename": "SyntaxError",
     "evalue": "invalid syntax (<ipython-input-7-6730cd2a589b>, line 1)",
     "output_type": "error",
     "traceback": [
      "\u001b[1;36m  File \u001b[1;32m\"<ipython-input-7-6730cd2a589b>\"\u001b[1;36m, line \u001b[1;32m1\u001b[0m\n\u001b[1;33m    dp_df['poly'].replace(regex=True,inplace=True,to_replace=r\"][\"\",value=r\"],[\")\u001b[0m\n\u001b[1;37m                                                                            ^\u001b[0m\n\u001b[1;31mSyntaxError\u001b[0m\u001b[1;31m:\u001b[0m invalid syntax\n"
     ]
    }
   ],
   "source": [
    "def data2geojson(df):\n",
    "    features = []\n",
    "    insert_features = lambda X: features.append(\n",
    "            geojson.Feature(geometry=geojson.Point((X[\"long\"],\n",
    "                                                    X[\"lat\"])),\n",
    "                            properties=dict(name=X[\"name\"],\n",
    "                                            description=X[\"description\"])))\n",
    "    df.apply(insert_features, axis=1)\n",
    "    with open('map1.geojson', 'w', encoding='utf8') as fp:\n",
    "        geojson.dump(geojson.FeatureCollection(features), fp, sort_keys=True, ensure_ascii=False)\n"
   ]
  },
  {
   "cell_type": "code",
   "execution_count": null,
   "metadata": {},
   "outputs": [],
   "source": [
    "dp_df.to_json('div_polys.json')"
   ]
  }
 ],
 "metadata": {
  "kernelspec": {
   "display_name": "Python 3",
   "language": "python",
   "name": "python3"
  },
  "language_info": {
   "codemirror_mode": {
    "name": "ipython",
    "version": 3
   },
   "file_extension": ".py",
   "mimetype": "text/x-python",
   "name": "python",
   "nbconvert_exporter": "python",
   "pygments_lexer": "ipython3",
   "version": "3.6.9"
  }
 },
 "nbformat": 4,
 "nbformat_minor": 4
}
