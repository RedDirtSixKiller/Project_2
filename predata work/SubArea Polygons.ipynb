{
 "cells": [
  {
   "cell_type": "code",
   "execution_count": 1,
   "metadata": {},
   "outputs": [],
   "source": [
    "import pandas as pd\n",
    "import os\n",
    "import pyodbc\n",
    "import time\n",
    "import scipy\n",
    "from scipy.spatial import ConvexHull\n",
    "import scipy.spatial as spatial\n",
    "from math import radians, cos, sin, asin, sqrt\n",
    "import sklearn.utils\n",
    "from sklearn import metrics\n",
    "import scipy.cluster.hierarchy as sch\n",
    "import numpy as np\n",
    "import matplotlib.pyplot as plt\n",
    "np.set_printoptions(threshold=np.nan)"
   ]
  },
  {
   "cell_type": "code",
   "execution_count": 2,
   "metadata": {},
   "outputs": [
    {
     "data": {
      "text/plain": [
       "'C:\\\\Users\\\\ajpk\\\\Desktop\\\\Work Bundles'"
      ]
     },
     "execution_count": 2,
     "metadata": {},
     "output_type": "execute_result"
    }
   ],
   "source": [
    "os.chdir(\"C:/Users/ajpk/Desktop/Work Bundles\")\n",
    "os.getcwd()"
   ]
  },
  {
   "cell_type": "code",
   "execution_count": 3,
   "metadata": {},
   "outputs": [
    {
     "name": "stdout",
     "output_type": "stream",
     "text": [
      "23.817657232284546\n"
     ]
    },
    {
     "data": {
      "text/html": [
       "<div>\n",
       "<style scoped>\n",
       "    .dataframe tbody tr th:only-of-type {\n",
       "        vertical-align: middle;\n",
       "    }\n",
       "\n",
       "    .dataframe tbody tr th {\n",
       "        vertical-align: top;\n",
       "    }\n",
       "\n",
       "    .dataframe thead th {\n",
       "        text-align: right;\n",
       "    }\n",
       "</style>\n",
       "<table border=\"1\" class=\"dataframe\">\n",
       "  <thead>\n",
       "    <tr style=\"text-align: right;\">\n",
       "      <th></th>\n",
       "      <th>DIV_NAME</th>\n",
       "      <th>PHYSICAL_RTE</th>\n",
       "      <th>SubArea</th>\n",
       "      <th>PREM_LATITUDE</th>\n",
       "      <th>PREM_LONGITUDE</th>\n",
       "    </tr>\n",
       "  </thead>\n",
       "  <tbody>\n",
       "    <tr>\n",
       "      <th>0</th>\n",
       "      <td>Peninsula</td>\n",
       "      <td>KRNF2</td>\n",
       "      <td>PRNS101</td>\n",
       "      <td>37.59</td>\n",
       "      <td>-122.33</td>\n",
       "    </tr>\n",
       "    <tr>\n",
       "      <th>1</th>\n",
       "      <td>Stockton</td>\n",
       "      <td>WXVF7</td>\n",
       "      <td>QXVS101</td>\n",
       "      <td>37.70</td>\n",
       "      <td>-121.45</td>\n",
       "    </tr>\n",
       "    <tr>\n",
       "      <th>2</th>\n",
       "      <td>Peninsula</td>\n",
       "      <td>SRNF1</td>\n",
       "      <td>PRNS104</td>\n",
       "      <td>37.53</td>\n",
       "      <td>-122.27</td>\n",
       "    </tr>\n",
       "    <tr>\n",
       "      <th>3</th>\n",
       "      <td>Diablo</td>\n",
       "      <td>XJCF1</td>\n",
       "      <td>DJCS105</td>\n",
       "      <td>37.99</td>\n",
       "      <td>-121.71</td>\n",
       "    </tr>\n",
       "    <tr>\n",
       "      <th>4</th>\n",
       "      <td>San Francisco</td>\n",
       "      <td>GRGH2</td>\n",
       "      <td>RRGS109</td>\n",
       "      <td>37.75</td>\n",
       "      <td>-122.41</td>\n",
       "    </tr>\n",
       "  </tbody>\n",
       "</table>\n",
       "</div>"
      ],
      "text/plain": [
       "        DIV_NAME PHYSICAL_RTE  SubArea  PREM_LATITUDE  PREM_LONGITUDE\n",
       "0      Peninsula        KRNF2  PRNS101          37.59         -122.33\n",
       "1       Stockton        WXVF7  QXVS101          37.70         -121.45\n",
       "2      Peninsula        SRNF1  PRNS104          37.53         -122.27\n",
       "3         Diablo        XJCF1  DJCS105          37.99         -121.71\n",
       "4  San Francisco        GRGH2  RRGS109          37.75         -122.41"
      ]
     },
     "execution_count": 3,
     "metadata": {},
     "output_type": "execute_result"
    }
   ],
   "source": [
    "#Get the mtr geo data from the csv\n",
    "start_time = time.time()\n",
    "\n",
    "                          \n",
    "mtr_geo_df=pd.read_csv('mtr_geo.csv')\n",
    "\n",
    "mtr_geo_df=mtr_geo_df.dropna()\n",
    "mtr_geo_df['PREM_LATITUDE']=np.round(mtr_geo_df['PREM_LATITUDE'],2)\n",
    "mtr_geo_df['PREM_LONGITUDE']=np.round(mtr_geo_df['PREM_LONGITUDE'],2)\n",
    "mtr_geo_df = mtr_geo_df.drop_duplicates()\n",
    "end_time = time.time()\n",
    "print(end_time -start_time)\n",
    "mtr_geo_df.head()"
   ]
  },
  {
   "cell_type": "code",
   "execution_count": 5,
   "metadata": {},
   "outputs": [
    {
     "data": {
      "text/plain": [
       "22.70624516416524"
      ]
     },
     "execution_count": 5,
     "metadata": {},
     "output_type": "execute_result"
    }
   ],
   "source": [
    "points=mtr_geo_df.as_matrix(columns=['PREM_LONGITUDE','PREM_LATITUDE'])\n",
    "hull = ConvexHull(points)\n",
    "hull.area"
   ]
  },
  {
   "cell_type": "code",
   "execution_count": 6,
   "metadata": {},
   "outputs": [
    {
     "data": {
      "image/png": "[encoded data removed]",
      "text/plain": [
       "<Figure size 432x288 with 1 Axes>"
      ]
     },
     "metadata": {},
     "output_type": "display_data"
    }
   ],
   "source": [
    "plt.plot(points[:,0], points[:,1],'o')\n",
    "for simplex in hull.simplices:\n",
    "    plt.plot(points[simplex,0], points[simplex, 1],'k-')"
   ]
  },
  {
   "cell_type": "code",
   "execution_count": 7,
   "metadata": {},
   "outputs": [
    {
     "name": "stdout",
     "output_type": "stream",
     "text": [
      "4.567128419876099\n"
     ]
    }
   ],
   "source": [
    "#make the hulls around the divs and subAreas, rounded the lat/long for simplicity\n",
    "start_time = time.time()\n",
    "cols = ['DIV_NAME', 'poly']\n",
    "div_poly = pd.DataFrame(columns = cols)\n",
    "divs = mtr_geo_df['DIV_NAME'].unique()\n",
    "for i,d in enumerate(divs):\n",
    "    da = mtr_geo_df[mtr_geo_df['DIV_NAME']==d]\n",
    "    points=np.round(da.as_matrix(columns=['PREM_LONGITUDE','PREM_LATITUDE']),2)\n",
    "    points = np.unique(points, axis=0)\n",
    "    hull = ConvexHull(points)\n",
    "    data = {'DIV_NAME':d,'poly':hull.points}\n",
    "    div_poly=div_poly.append(data, ignore_index=True)\n",
    "\n",
    "div_poly.to_csv('div_polys.csv')\n",
    "end_time = time.time()\n",
    "print(end_time -start_time)"
   ]
  },
  {
   "cell_type": "code",
   "execution_count": 8,
   "metadata": {},
   "outputs": [
    {
     "name": "stdout",
     "output_type": "stream",
     "text": [
      "76.86407923698425\n"
     ]
    }
   ],
   "source": [
    "#make the hulls around the divs and subAreas, rounded the lat/long for simplicity\n",
    "start_time = time.time()\n",
    "cols = ['SubArea', 'poly']\n",
    "sa_poly = pd.DataFrame(columns = cols)\n",
    "sas = mtr_geo_df['SubArea'].unique()\n",
    "for i,s in enumerate(sas):\n",
    "    sa = mtr_geo_df[mtr_geo_df['SubArea']==s]\n",
    "    points=np.round(da.as_matrix(columns=['PREM_LONGITUDE','PREM_LATITUDE']),2)\n",
    "    points = np.unique(points, axis=0)\n",
    "    hull = ConvexHull(points)\n",
    "    data = {'SubArea':s,'poly':hull.points}\n",
    "    sa_poly=sa_poly.append(data, ignore_index=True)\n",
    "\n",
    "sa_poly.to_csv('sa_polys.csv')\n",
    "end_time = time.time()\n",
    "print(end_time -start_time)"
   ]
  }
 ],
 "metadata": {
  "kernelspec": {
   "display_name": "Python 3",
   "language": "python",
   "name": "python3"
  },
  "language_info": {
   "codemirror_mode": {
    "name": "ipython",
    "version": 3
   },
   "file_extension": ".py",
   "mimetype": "text/x-python",
   "name": "python",
   "nbconvert_exporter": "python",
   "pygments_lexer": "ipython3",
   "version": "3.6.4"
  }
 },
 "nbformat": 4,
 "nbformat_minor": 2
}
